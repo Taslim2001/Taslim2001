{
  "nbformat": 4,
  "nbformat_minor": 0,
  "metadata": {
    "colab": {
      "provenance": [],
      "authorship_tag": "ABX9TyN2f/nOM5gTlVZdEgteOjbA",
      "include_colab_link": true
    },
    "kernelspec": {
      "name": "python3",
      "display_name": "Python 3"
    },
    "language_info": {
      "name": "python"
    }
  },
  "cells": [
    {
      "cell_type": "markdown",
      "metadata": {
        "id": "view-in-github",
        "colab_type": "text"
      },
      "source": [
        "<a href=\"https://colab.research.google.com/github/Taslim2001/Taslim2001/blob/main/Untitled9.ipynb\" target=\"_parent\"><img src=\"https://colab.research.google.com/assets/colab-badge.svg\" alt=\"Open In Colab\"/></a>"
      ]
    },
    {
      "cell_type": "code",
      "execution_count": 1,
      "metadata": {
        "id": "FNOSaqC22f2_"
      },
      "outputs": [],
      "source": [
        "import os\n",
        "import cv2\n",
        "import glob\n",
        "import random\n",
        "import imageio\n",
        "import numpy as np\n",
        "import pandas as pd\n",
        "from PIL import Image\n",
        "import seaborn as sns\n",
        "import skimage.measure\n",
        "import tensorflow as tf\n",
        "from skimage import data\n",
        "import albumentations as A\n",
        "import scipy.ndimage as ndi\n",
        "from tqdm.notebook import tqdm\n",
        "import matplotlib.pyplot as plt\n",
        "import matplotlib.image as mpimg\n",
        "from keras.models import Sequential\n",
        "from skimage.morphology import disk\n",
        "from skimage.util import img_as_ubyte\n",
        "from skimage.filters.rank import entropy\n",
        "from tensorflow.keras import regularizers\n",
        "from skimage.measure.entropy import shannon_entropy\n",
        "from sklearn.model_selection import train_test_split\n",
        "from tensorflow.keras.optimizers import Adam , Adamax\n",
        "from keras.preprocessing.image import ImageDataGenerator\n",
        "from sklearn.metrics import confusion_matrix , classification_report\n",
        "from keras.layers import Conv2D, MaxPooling2D, Activation, Dropout, Flatten, Dense,BatchNormalization"
      ]
    },
    {
      "cell_type": "code",
      "source": [],
      "metadata": {
        "id": "245WwRs34KST"
      },
      "execution_count": null,
      "outputs": []
    }
  ]
}