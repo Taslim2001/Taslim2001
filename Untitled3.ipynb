{
  "nbformat": 4,
  "nbformat_minor": 0,
  "metadata": {
    "colab": {
      "provenance": [],
      "authorship_tag": "ABX9TyOq98wvKvpbGLnmPCD9YqhK",
      "include_colab_link": true
    },
    "kernelspec": {
      "name": "python3",
      "display_name": "Python 3"
    },
    "language_info": {
      "name": "python"
    }
  },
  "cells": [
    {
      "cell_type": "markdown",
      "metadata": {
        "id": "view-in-github",
        "colab_type": "text"
      },
      "source": [
        "<a href=\"https://colab.research.google.com/github/Taslim2001/Taslim2001/blob/main/Untitled3.ipynb\" target=\"_parent\"><img src=\"https://colab.research.google.com/assets/colab-badge.svg\" alt=\"Open In Colab\"/></a>"
      ]
    },
    {
      "cell_type": "code",
      "execution_count": 3,
      "metadata": {
        "id": "7sKO8QsudvFa",
        "outputId": "958f57dc-861d-42bd-afd0-4b7ad8cece45",
        "colab": {
          "base_uri": "https://localhost:8080/"
        }
      },
      "outputs": [
        {
          "output_type": "stream",
          "name": "stdout",
          "text": [
            "[10, 20, 30, 40]\n",
            "[50, 60, 70, 80]\n",
            "[90, 10, 30, 50]\n",
            "[50, 30, 30, 60]\n"
          ]
        }
      ],
      "source": [
        "import csv\n",
        "\n",
        "data = [[10,20,30,40],[50,60,70,80],[90,10,30,50],[50,30,30,60]]\n",
        "file = open(\"MYCSVFile.csv\", \"w\")\n",
        "\n",
        "writer = csv.writer(file)\n",
        "for row in data:\n",
        "  print (row)\n",
        "  writer.writerow(row)\n",
        "file.close()\n"
      ]
    }
  ]
}